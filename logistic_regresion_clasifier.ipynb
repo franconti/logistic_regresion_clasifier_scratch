{
  "nbformat": 4,
  "nbformat_minor": 0,
  "metadata": {
    "colab": {
      "provenance": []
    },
    "kernelspec": {
      "name": "python3",
      "display_name": "Python 3"
    },
    "language_info": {
      "name": "python"
    }
  },
  "cells": [
    {
      "cell_type": "markdown",
      "source": [
        "# Logistic Regression from scratch\n",
        "## Introduction\n",
        "\n",
        "Logistic Regression is a specific type of generalized linear model. It is commonly used to estimate the probability that an instance belongs to a particular class (e.g., what is the probability that this email is spam?). If the estimated probability is greater than 50%, then the model predicts that the instance belongs to that class (called the positive class, labeled “1”), or else it predicts that it does not (i.e., it belongs to the negative class, labeled “0”). This makes it a binary classifier.\n",
        "\n",
        "\n",
        "Logistic Regression model computes a weighted sum of the input features (plus a bias term) and outputs the logistic of this result:\n",
        "\n",
        "#### p = sigmoid(X @ theta)\n",
        "\n",
        "where:\n",
        "p = is the vector of predicted probabilities.\n",
        "\n",
        "sigmoid = is the sigmoid function, which squashes the values of the linear combination to lie between 0 and 1\n",
        "\n",
        "#### sigmoid(x) = 1 / (1 + e^(-x))\n",
        "\n",
        "X = is the design matrix, where each row represents an instance in the dataset\n",
        "\n",
        "@ = is the matrix multiplication operator\n",
        "\n",
        "theta = is the vector of model parameters\n",
        "\n",
        "@ = is the matrix multiplication operator\n",
        "\n",
        "\n",
        "\n",
        "This sigmoid function fits an \"S\" shaped logistic function from 0 to 1. The resulting vector values represent 0 if p<0.5 and 1 if p>= 0.5\n",
        "\n",
        "So, now we understand how the model works and how to make predictions. The next step is training. The objective of training is to set the parameter vector \"theta\" so that the model estimates high probabilities for positive instances and low probabilities for negative instances. The cost function over the whole training set is simply the average cost over all training instances. It can be written in a single expression, called the log loss function.\n",
        "\n",
        "\n",
        "The log Loss function plays a crucial role in evaluating the model's performance and guiding the optimization process. It measures the discrepancy between the model's predicted probabilities and the actual class labels. By minimizing the loss function, the model is trained to make more accurate predictions.\n",
        "\n",
        "The log loss function is minimized using an optimization algorithm gradient descent. This way we can find the value of Theta than minimise the cost function.  \n",
        "\n",
        "\n",
        "\n",
        "References:\n",
        "\n",
        "https://gist.github.com/yusugomori/4462221\n",
        "\n",
        "Géron, A. (2019). Hands-On Machine Learning with Scikit-Learn, Keras, and TensorFlow: Concepts, Tools, and Techniques to Build Intelligent Systems (2nd ed.). O'Reilly Media."
      ],
      "metadata": {
        "id": "Fzkft-jHWblP"
      }
    },
    {
      "cell_type": "markdown",
      "source": [
        "Import libraries"
      ],
      "metadata": {
        "id": "uEKggU_EWd1I"
      }
    },
    {
      "cell_type": "code",
      "source": [
        "import numpy as np\n",
        "\n",
        "from sklearn.datasets import load_iris\n",
        "import matplotlib.pyplot as plt"
      ],
      "metadata": {
        "id": "z7Nx85CVWloA"
      },
      "execution_count": 2,
      "outputs": []
    },
    {
      "cell_type": "markdown",
      "source": [
        "Loand data set"
      ],
      "metadata": {
        "id": "LwuPte32WqeD"
      }
    },
    {
      "cell_type": "code",
      "source": [
        "iris = load_iris()"
      ],
      "metadata": {
        "id": "AL2JFx89Wsug"
      },
      "execution_count": 3,
      "outputs": []
    },
    {
      "cell_type": "code",
      "source": [
        "print(iris['target'])"
      ],
      "metadata": {
        "colab": {
          "base_uri": "https://localhost:8080/"
        },
        "id": "n8UV5tiSX8Vr",
        "outputId": "b37fd7d2-6592-4db3-b119-c92d94283f33"
      },
      "execution_count": 4,
      "outputs": [
        {
          "output_type": "stream",
          "name": "stdout",
          "text": [
            "[0 0 0 0 0 0 0 0 0 0 0 0 0 0 0 0 0 0 0 0 0 0 0 0 0 0 0 0 0 0 0 0 0 0 0 0 0\n",
            " 0 0 0 0 0 0 0 0 0 0 0 0 0 1 1 1 1 1 1 1 1 1 1 1 1 1 1 1 1 1 1 1 1 1 1 1 1\n",
            " 1 1 1 1 1 1 1 1 1 1 1 1 1 1 1 1 1 1 1 1 1 1 1 1 1 1 2 2 2 2 2 2 2 2 2 2 2\n",
            " 2 2 2 2 2 2 2 2 2 2 2 2 2 2 2 2 2 2 2 2 2 2 2 2 2 2 2 2 2 2 2 2 2 2 2 2 2\n",
            " 2 2]\n"
          ]
        }
      ]
    },
    {
      "cell_type": "markdown",
      "source": [
        "Use the first two columns as X\n",
        "\n",
        "> Indented block\n",
        "\n"
      ],
      "metadata": {
        "id": "toiSQmN5YK3c"
      }
    },
    {
      "cell_type": "code",
      "source": [
        "#loading first two columns as X\n",
        "X = iris[\"data\"][:, :2]"
      ],
      "metadata": {
        "id": "00AXpEigaPj1"
      },
      "execution_count": 5,
      "outputs": []
    },
    {
      "cell_type": "markdown",
      "source": [
        "Now the target values are 0,1 and 2. For the propouse of this study, If the last column value is ‘Iris-setosa” the target value will be 1. For 'versicolor', 'virginica', target value will be 0."
      ],
      "metadata": {
        "id": "lZFUnmTFaR6t"
      }
    },
    {
      "cell_type": "code",
      "source": [
        "#change labels to 0 if the If the last column value is ‘Iris-setosa” - 1\n",
        "y= np.zeros_like(iris.target)\n",
        "y[iris['target'] == 0] = 1"
      ],
      "metadata": {
        "id": "-nzCINGbbG0u"
      },
      "execution_count": 6,
      "outputs": []
    },
    {
      "cell_type": "code",
      "source": [
        "y.shape"
      ],
      "metadata": {
        "colab": {
          "base_uri": "https://localhost:8080/"
        },
        "id": "6D2TX9E9bI61",
        "outputId": "002fc52b-968b-4739-9b83-453d512cddfc"
      },
      "execution_count": 7,
      "outputs": [
        {
          "output_type": "execute_result",
          "data": {
            "text/plain": [
              "(150,)"
            ]
          },
          "metadata": {},
          "execution_count": 7
        }
      ]
    },
    {
      "cell_type": "code",
      "source": [
        "y"
      ],
      "metadata": {
        "colab": {
          "base_uri": "https://localhost:8080/"
        },
        "id": "SktH0c18bKye",
        "outputId": "7c3653da-ef27-4476-e0ee-92c4710ffbcb"
      },
      "execution_count": 8,
      "outputs": [
        {
          "output_type": "execute_result",
          "data": {
            "text/plain": [
              "array([1, 1, 1, 1, 1, 1, 1, 1, 1, 1, 1, 1, 1, 1, 1, 1, 1, 1, 1, 1, 1, 1,\n",
              "       1, 1, 1, 1, 1, 1, 1, 1, 1, 1, 1, 1, 1, 1, 1, 1, 1, 1, 1, 1, 1, 1,\n",
              "       1, 1, 1, 1, 1, 1, 0, 0, 0, 0, 0, 0, 0, 0, 0, 0, 0, 0, 0, 0, 0, 0,\n",
              "       0, 0, 0, 0, 0, 0, 0, 0, 0, 0, 0, 0, 0, 0, 0, 0, 0, 0, 0, 0, 0, 0,\n",
              "       0, 0, 0, 0, 0, 0, 0, 0, 0, 0, 0, 0, 0, 0, 0, 0, 0, 0, 0, 0, 0, 0,\n",
              "       0, 0, 0, 0, 0, 0, 0, 0, 0, 0, 0, 0, 0, 0, 0, 0, 0, 0, 0, 0, 0, 0,\n",
              "       0, 0, 0, 0, 0, 0, 0, 0, 0, 0, 0, 0, 0, 0, 0, 0, 0, 0])"
            ]
          },
          "metadata": {},
          "execution_count": 8
        }
      ]
    },
    {
      "cell_type": "markdown",
      "source": [
        "Lets plot the new data set to separate iris setosa from the other ones."
      ],
      "metadata": {
        "id": "vSBlkn8Hbbre"
      }
    },
    {
      "cell_type": "code",
      "source": [
        "#ploting\n",
        "plt.scatter(X[:,0], X[:,1], c=y, cmap='rainbow')\n",
        "plt.show()\n"
      ],
      "metadata": {
        "colab": {
          "base_uri": "https://localhost:8080/",
          "height": 433
        },
        "id": "_OCqm77NXxWw",
        "outputId": "6316f738-94a0-4e5a-f009-02aeef1b1eba"
      },
      "execution_count": 9,
      "outputs": [
        {
          "output_type": "display_data",
          "data": {
            "text/plain": [
              "<Figure size 640x480 with 1 Axes>"
            ],
            "image/png": "[encoded data removed]"
          },
          "metadata": {}
        }
      ]
    },
    {
      "cell_type": "markdown",
      "source": [
        "Create a function to split data into train and test sets. This step is commonly performed using the train_test_split function from the sklearn.model_selection module. The function takes the features (X) and labels (y) as input and splits them into training and testing sets. The test_size parameter specifies the proportion of data to be used for testing."
      ],
      "metadata": {
        "id": "s7JzRa_z7wuN"
      }
    },
    {
      "cell_type": "code",
      "source": [
        "# This is just to explore how the split works.\n",
        "# The shortest way is to use import train_test_split from sklearn.model_selection\n",
        "\n",
        "def split_train_test (percent, X, y):\n",
        "#Function that takes a percentage of data as input and splits the data into training and test sets.\n",
        "# The 'X' parameter represents the data features and the 'y' parameter represents the target values.\n",
        "    num_rows = len (y)\n",
        "    #generates random number\n",
        "    permutation = np.random.permutation(num_rows)\n",
        "    #mix the data randomly\n",
        "    X = X[permutation]\n",
        "    y = y [permutation]\n",
        "    #separates data 70%\n",
        "    split_index = int(num_rows * percent)\n",
        "    train = (X[:split_index], y[:split_index])\n",
        "    test = (X[split_index:], y[split_index:])\n",
        "    return train, test"
      ],
      "metadata": {
        "id": "SztzY70J6vKU"
      },
      "execution_count": 10,
      "outputs": []
    },
    {
      "cell_type": "markdown",
      "source": [
        "we start the Logistic Regression model creating a sigmoid fuction."
      ],
      "metadata": {
        "id": "O39C0mb4tVOz"
      }
    },
    {
      "cell_type": "code",
      "source": [
        "# creating function sigmoid\n",
        "def sigmond(z):\n",
        "    return 1/(1+np.exp(-z))\n",
        "\n",
        "x_values = np.linspace(-5, 5,100)\n",
        "\n",
        "plt.plot(x_values, sigmond(x_values), color = 'red')"
      ],
      "metadata": {
        "colab": {
          "base_uri": "https://localhost:8080/",
          "height": 447
        },
        "id": "f_oKXhjEdoOK",
        "outputId": "417253f5-cb97-4bc0-b19e-1ae1d348d187"
      },
      "execution_count": 11,
      "outputs": [
        {
          "output_type": "execute_result",
          "data": {
            "text/plain": [
              "[<matplotlib.lines.Line2D at 0x7af195fd89a0>]"
            ]
          },
          "metadata": {},
          "execution_count": 11
        },
        {
          "output_type": "display_data",
          "data": {
            "text/plain": [
              "<Figure size 640x480 with 1 Axes>"
            ],
            "image/png": "[encoded data removed]"
          },
          "metadata": {}
        }
      ]
    },
    {
      "cell_type": "markdown",
      "source": [
        "In logistic regression, the negative log likelihood function is a common cost/loss function used to estimate the parameters of the model.\n",
        "The negative log likelihood is a measure used in logistic regression to quantify how well the model predicts the true labels. The function calculates the average (mean) negative log likelihood across all samples, indicating how far off the predicted probabilities are from the actual values. The goal is to minimize this value when training a logistic regression model.\n",
        "\n"
      ],
      "metadata": {
        "id": "HCvregZx1jtK"
      }
    },
    {
      "cell_type": "code",
      "source": [
        "#Cost function: It quantifies the error between the model's predictions and the desired output.\n",
        "\n",
        "def log_likehood (y, y_calc):\n",
        "    m = len(y)\n",
        "    return -(y.T*np.log(y_calc) + (1+y).T*np.log(1-y_calc)).mean()\n",
        "\n"
      ],
      "metadata": {
        "id": "_otE4VFxe7nP"
      },
      "execution_count": 12,
      "outputs": []
    },
    {
      "cell_type": "markdown",
      "source": [
        "To calculate global minimum, the derivatives of the loss function with respect to each weight is obtained. These derivatives indicate how much the loss would change if we modified the parameters. For each instance, this function calculates the prediction error, multiplies it by the corresponding Xi value, and then computes the average over all training instances.\n",
        "\n",
        "\n"
      ],
      "metadata": {
        "id": "iGcr1un4fAKg"
      }
    },
    {
      "cell_type": "code",
      "source": [
        "\n",
        "def gradient ( y_calc, y, X):\n",
        "    #fuction that calculates the gradient.\n",
        "\n",
        "\n",
        "    num_rows = len(y) #termines the number of samples in the dataset\n",
        "\n",
        "    #y.reshape(-1,1)-y_calc reshape matrix to do the difference\n",
        "    #.T@ X: Performs matrix multiplication between the transposed y_diff and the feature matrix X.\n",
        "    #Dividing by the number of rows, it computes the average gradient across all samples. Getting the direction and magnitude of the steepest.\n",
        "\n",
        "    return ((y.reshape(-1,1)-y_calc).T@X)/num_rows\n"
      ],
      "metadata": {
        "id": "lR9NYzOge_PX"
      },
      "execution_count": 13,
      "outputs": []
    },
    {
      "cell_type": "markdown",
      "source": [
        "Then, we create a function to perform gradient descent. This function iteratively updates the weights based on the calculated gradients.\n",
        "\n",
        "Within the gradient descent function, we update the weights by subtracting the product of the derivative and the learning rate.\""
      ],
      "metadata": {
        "id": "Uep3sL-JhjAC"
      }
    },
    {
      "cell_type": "code",
      "source": [
        "def gradient_ascent (X, y, epoch, alpha, num_print_debug = 100):\n",
        "    num_rows, n = X.shape  # Get the number of samples and features\n",
        "    theta = np.random.rand(1,2) # Initialize parameters randomly\n",
        "    print_index = int(epoch/num_print_debug)  # Determine when to print debug information\n",
        "    loss = []  # List to store loss values during training\n",
        "    for i in range (epoch):\n",
        "        h = sigmond(X@theta.T) # Calculate the sigmoid of the linear combination of features and parameters\n",
        "        theta += alpha * gradient (h, y , X) # Update parameters using gradient ascent\n",
        "        if i%print_index == 0: #Checks whether it's time to print the current loss for debugging purposes.\n",
        "            cur_loss = log_likehood (y, h)\n",
        "            loss.append(cur_loss)\n",
        "            print(cur_loss)\n",
        "    return theta, loss\n"
      ],
      "metadata": {
        "id": "orsHSrZ0hilj"
      },
      "execution_count": 38,
      "outputs": []
    },
    {
      "cell_type": "markdown",
      "source": [
        "Finally, we create a function to evaluate the model's accuracy on the test and train data."
      ],
      "metadata": {
        "id": "GdvC56FwiQbq"
      }
    },
    {
      "cell_type": "code",
      "source": [
        "def check_accurancy (X, y, theta, name):\n",
        "    h = sigmond(X@theta.T) # Compute the predicted probabilities using the logistic function\n",
        "    pred = np.zeros_like(h) # Create an array of zeros with the same shape as h\n",
        "    pred[h>= 0.5] =1 ## Set values in 'pred' to 1 where the predicted probability is greater than or equal to 0.5\n",
        "    accuracy = sum([x==y for x,y in zip(pred, y )])/len(y) ## Compute accuracy by comparing predicted values ('pred') with actual values ('y')\n",
        "    likelihood = log_likehood(y,h)  ## Compute the log likelihood based on the actual values\n",
        "    print (f\"{name} precision : {accuracy*100}%, log likelihood {likelihood}\")"
      ],
      "metadata": {
        "id": "K7qo8QwZiVLF"
      },
      "execution_count": 39,
      "outputs": []
    },
    {
      "cell_type": "markdown",
      "source": [
        "1- split the data into train and test"
      ],
      "metadata": {
        "id": "dldCX8xrxLN7"
      }
    },
    {
      "cell_type": "code",
      "source": [
        "train, test = split_train_test(0.7, X, y)"
      ],
      "metadata": {
        "id": "NvEG6KtDijoY"
      },
      "execution_count": 40,
      "outputs": []
    },
    {
      "cell_type": "markdown",
      "source": [
        "2- Train the model to get its parameters"
      ],
      "metadata": {
        "id": "EBAPl6vcqCTv"
      }
    },
    {
      "cell_type": "code",
      "source": [
        "theta, loss = gradient_ascent(train[0], train [1], 100000, 0.1, 400)\n"
      ],
      "metadata": {
        "colab": {
          "base_uri": "https://localhost:8080/"
        },
        "id": "9C2y5AOjibT9",
        "outputId": "c4537524-2f85-446e-86e1-243647d7efc5"
      },
      "execution_count": 41,
      "outputs": [
        {
          "output_type": "stream",
          "name": "stdout",
          "text": [
           
          ]
        }
      ]
    },
    {
      "cell_type": "code",
      "source": [
        "plt.plot(loss)\n",
        "plt.title('log likelihood loss')\n",
        "plt.xlabel('iteration')\n",
        "plt.ylabel('log likelihood')"
      ],
      "metadata": {
        "colab": {
          "base_uri": "https://localhost:8080/",
          "height": 489
        },
        "id": "zXmNgDYriqpS",
        "outputId": "7165b3a4-9b0d-4afd-fce5-0e94152335e6"
      },
      "execution_count": 42,
      "outputs": [
        {
          "output_type": "execute_result",
          "data": {
            "text/plain": [
              "Text(0, 0.5, 'log likelihood')"
            ]
          },
          "metadata": {},
          "execution_count": 42
        },
        {
          "output_type": "display_data",
          "data": {
            "text/plain": [
              "<Figure size 640x480 with 1 Axes>"
            ],
            "image/png": "[encoded data removed]"
          },
          "metadata": {}
        }
      ]
    },
    {
      "cell_type": "code",
      "execution_count": 43,
      "metadata": {
        "colab": {
          "base_uri": "https://localhost:8080/"
        },
        "id": "iTikWHiMTVve",
        "outputId": "84985cc3-6693-48cf-c610-18d3d09fd3ae"
      },
      "outputs": [
        {
          "output_type": "stream",
          "name": "stdout",
          "text": [
            "train precision : [99.04761905]%, log likelihood 4.615462221823861\n"
          ]
        }
      ],
      "source": [
        "check_accurancy(train[0], train[1], theta, 'train')"
      ]
    },
    {
      "cell_type": "code",
      "source": [
        "check_accurancy(test[0], test[1], theta, 'test')"
      ],
      "metadata": {
        "colab": {
          "base_uri": "https://localhost:8080/"
        },
        "id": "PzpSRCXTi8mV",
        "outputId": "305fd182-8adf-48f4-fbec-61d1b2709ed6"
      },
      "execution_count": 44,
      "outputs": [
        {
          "output_type": "stream",
          "name": "stdout",
          "text": [
            "test precision : [100.]%, log likelihood 5.445647022374085\n"
          ]
        }
      ]
    },
    {
      "cell_type": "markdown",
      "source": [],
      "metadata": {
        "id": "LRWXdV98TnA-"
      }
    }
  ]
}
